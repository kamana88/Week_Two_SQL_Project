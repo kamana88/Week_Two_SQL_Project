{
  "nbformat": 4,
  "nbformat_minor": 0,
  "metadata": {
    "colab": {
      "provenance": []
    },
    "kernelspec": {
      "name": "python3",
      "display_name": "Python 3"
    },
    "language_info": {
      "name": "python"
    }
  },
  "cells": [
    {
      "cell_type": "code",
      "execution_count": 1,
      "metadata": {
        "id": "EkI3t-Wh3K2S"
      },
      "outputs": [],
      "source": [
        "%load_ext sql"
      ]
    },
    {
      "cell_type": "code",
      "source": [
        "%sql sqlite:///stud.db"
      ],
      "metadata": {
        "id": "_yAThaBG3XBR"
      },
      "execution_count": 2,
      "outputs": []
    },
    {
      "cell_type": "markdown",
      "source": [
        "**personal_details table**"
      ],
      "metadata": {
        "id": "pPd6Duhh3jwp"
      }
    },
    {
      "cell_type": "code",
      "source": [
        "%%sql CREATE TABLE personal_details (\n",
        "    national_ID INTEGER(15),\n",
        "    stud_ID VARCHAR(15),\n",
        "    stud_name VARCHAR(100),\n",
        "    phone_number VARCHAR(15),\n",
        "    age INTEGER,\n",
        "    gender VARCHAR(10),\n",
        "    PRIMARY KEY(national_ID)\n",
        "    );"
      ],
      "metadata": {
        "colab": {
          "base_uri": "https://localhost:8080/"
        },
        "id": "a0ug-No13o_I",
        "outputId": "c8bd4a6b-437b-4033-9b50-d09e48474dbd"
      },
      "execution_count": 3,
      "outputs": [
        {
          "output_type": "stream",
          "name": "stdout",
          "text": [
            " * sqlite:///stud.db\n",
            "Done.\n"
          ]
        },
        {
          "output_type": "execute_result",
          "data": {
            "text/plain": [
              "[]"
            ]
          },
          "metadata": {},
          "execution_count": 3
        }
      ]
    },
    {
      "cell_type": "code",
      "source": [
        "%%sql INSERT INTO personal_details (national_ID, stud_ID, stud_name, phone_number, age, gender)VALUES\n",
        "(\"344534\",\"stud101\",\"Hermione Granger\" ,\"0712345678\",20,\"Male\"),\n",
        "(\"379683\",\"stud102\",\"Draco Malfo\" ,\"0723456781\",21,\"Female\"),\n",
        "(\"347403\",\"stud103\",\"Jayden Wamashati\" ,\"0734567812\",22,\"Male\"),\n",
        "(\"377302\",\"stud104\",\"Ron Weasley\" ,\"0745678123\",19,\"Female\"),\n",
        "(\"336741\",\"stud105\",\"Dolores Umbridge\" ,\"0756781234\",21,\"Male\"),\n",
        "(\"307243\",\"stud106\",\"Hedwig Tonks\" ,\"0767812345\",21,\"Female\"),\n",
        "(\"310932\",\"stud107\",\"Chao Chang\" ,\"0778123456\",22,\"Male\"),\n",
        "(\"343920\",\"stud108\",\"Curfew Yaeitpm\" ,\"0781234567\",20,\"Female\"),\n",
        "(\"345261\",\"stud109\",\"Chaptr Mukenya\" ,\"0722345678\",20,\"Male\"),\n",
        "(\"339152\",\"stud110\",\"Natalie Mpema\" ,\"0733456781\",21,\"Female\"),\n",
        "(\"339746\",\"stud111\",\"Crew Nundi\" ,\"0744567812\",20,\"Male\"),\n",
        "(\"336373\",\"stud112\",\"Bandi Kagunda\" ,\"0755678123\",22,\"Female\"),\n",
        "(\"325252\",\"stud113\",\"Testimony Omolo\" ,\"0766456781\",21,\"Male\"),\n",
        "(\"321746\",\"stud114\",\"Career Mpya\" ,\"0741367812\",20,\"Male\"),\n",
        "(\"390234\",\"stud115\",\"Deamon Anduro\" ,\"0744421123\",22,\"Female\");"
      ],
      "metadata": {
        "colab": {
          "base_uri": "https://localhost:8080/"
        },
        "id": "I-dwpdZV4SBN",
        "outputId": "b623389d-4d53-4f25-8bc5-38a2b417d088"
      },
      "execution_count": 7,
      "outputs": [
        {
          "output_type": "stream",
          "name": "stdout",
          "text": [
            " * sqlite:///stud.db\n",
            "15 rows affected.\n"
          ]
        },
        {
          "output_type": "execute_result",
          "data": {
            "text/plain": [
              "[]"
            ]
          },
          "metadata": {},
          "execution_count": 7
        }
      ]
    },
    {
      "cell_type": "code",
      "source": [
        "%sql SELECT * FROM personal_details;"
      ],
      "metadata": {
        "colab": {
          "base_uri": "https://localhost:8080/",
          "height": 389
        },
        "id": "jfu1oKhT5F3W",
        "outputId": "cf7329a4-992a-49a0-a5c8-dc41ac10eaeb"
      },
      "execution_count": 8,
      "outputs": [
        {
          "output_type": "stream",
          "name": "stdout",
          "text": [
            " * sqlite:///stud.db\n",
            "Done.\n"
          ]
        },
        {
          "output_type": "execute_result",
          "data": {
            "text/plain": [
              "[(344534, 'stud101', 'Hermione Granger', '0712345678', 20, 'Male'),\n",
              " (379683, 'stud102', 'Draco Malfo', '0723456781', 21, 'Female'),\n",
              " (347403, 'stud103', 'Jayden Wamashati', '0734567812', 22, 'Male'),\n",
              " (377302, 'stud104', 'Ron Weasley', '0745678123', 19, 'Female'),\n",
              " (336741, 'stud105', 'Dolores Umbridge', '0756781234', 21, 'Male'),\n",
              " (307243, 'stud106', 'Hedwig Tonks', '0767812345', 21, 'Female'),\n",
              " (310932, 'stud107', 'Chao Chang', '0778123456', 22, 'Male'),\n",
              " (343920, 'stud108', 'Curfew Yaeitpm', '0781234567', 20, 'Female'),\n",
              " (345261, 'stud109', 'Chaptr Mukenya', '0722345678', 20, 'Male'),\n",
              " (339152, 'stud110', 'Natalie Mpema', '0733456781', 21, 'Female'),\n",
              " (339746, 'stud111', 'Crew Nundi', '0744567812', 20, 'Male'),\n",
              " (336373, 'stud112', 'Bandi Kagunda', '0755678123', 22, 'Female'),\n",
              " (325252, 'stud113', 'Testimony Omolo', '0766456781', 21, 'Male'),\n",
              " (321746, 'stud114', 'Career Mpya', '0741367812', 20, 'Male'),\n",
              " (390234, 'stud115', 'Deamon Anduro', '0744421123', 22, 'Female')]"
            ],
            "text/html": [
              "<table>\n",
              "    <thead>\n",
              "        <tr>\n",
              "            <th>national_ID</th>\n",
              "            <th>stud_ID</th>\n",
              "            <th>stud_name</th>\n",
              "            <th>phone_number</th>\n",
              "            <th>age</th>\n",
              "            <th>gender</th>\n",
              "        </tr>\n",
              "    </thead>\n",
              "    <tbody>\n",
              "        <tr>\n",
              "            <td>344534</td>\n",
              "            <td>stud101</td>\n",
              "            <td>Hermione Granger</td>\n",
              "            <td>0712345678</td>\n",
              "            <td>20</td>\n",
              "            <td>Male</td>\n",
              "        </tr>\n",
              "        <tr>\n",
              "            <td>379683</td>\n",
              "            <td>stud102</td>\n",
              "            <td>Draco Malfo</td>\n",
              "            <td>0723456781</td>\n",
              "            <td>21</td>\n",
              "            <td>Female</td>\n",
              "        </tr>\n",
              "        <tr>\n",
              "            <td>347403</td>\n",
              "            <td>stud103</td>\n",
              "            <td>Jayden Wamashati</td>\n",
              "            <td>0734567812</td>\n",
              "            <td>22</td>\n",
              "            <td>Male</td>\n",
              "        </tr>\n",
              "        <tr>\n",
              "            <td>377302</td>\n",
              "            <td>stud104</td>\n",
              "            <td>Ron Weasley</td>\n",
              "            <td>0745678123</td>\n",
              "            <td>19</td>\n",
              "            <td>Female</td>\n",
              "        </tr>\n",
              "        <tr>\n",
              "            <td>336741</td>\n",
              "            <td>stud105</td>\n",
              "            <td>Dolores Umbridge</td>\n",
              "            <td>0756781234</td>\n",
              "            <td>21</td>\n",
              "            <td>Male</td>\n",
              "        </tr>\n",
              "        <tr>\n",
              "            <td>307243</td>\n",
              "            <td>stud106</td>\n",
              "            <td>Hedwig Tonks</td>\n",
              "            <td>0767812345</td>\n",
              "            <td>21</td>\n",
              "            <td>Female</td>\n",
              "        </tr>\n",
              "        <tr>\n",
              "            <td>310932</td>\n",
              "            <td>stud107</td>\n",
              "            <td>Chao Chang</td>\n",
              "            <td>0778123456</td>\n",
              "            <td>22</td>\n",
              "            <td>Male</td>\n",
              "        </tr>\n",
              "        <tr>\n",
              "            <td>343920</td>\n",
              "            <td>stud108</td>\n",
              "            <td>Curfew Yaeitpm</td>\n",
              "            <td>0781234567</td>\n",
              "            <td>20</td>\n",
              "            <td>Female</td>\n",
              "        </tr>\n",
              "        <tr>\n",
              "            <td>345261</td>\n",
              "            <td>stud109</td>\n",
              "            <td>Chaptr Mukenya</td>\n",
              "            <td>0722345678</td>\n",
              "            <td>20</td>\n",
              "            <td>Male</td>\n",
              "        </tr>\n",
              "        <tr>\n",
              "            <td>339152</td>\n",
              "            <td>stud110</td>\n",
              "            <td>Natalie Mpema</td>\n",
              "            <td>0733456781</td>\n",
              "            <td>21</td>\n",
              "            <td>Female</td>\n",
              "        </tr>\n",
              "        <tr>\n",
              "            <td>339746</td>\n",
              "            <td>stud111</td>\n",
              "            <td>Crew Nundi</td>\n",
              "            <td>0744567812</td>\n",
              "            <td>20</td>\n",
              "            <td>Male</td>\n",
              "        </tr>\n",
              "        <tr>\n",
              "            <td>336373</td>\n",
              "            <td>stud112</td>\n",
              "            <td>Bandi Kagunda</td>\n",
              "            <td>0755678123</td>\n",
              "            <td>22</td>\n",
              "            <td>Female</td>\n",
              "        </tr>\n",
              "        <tr>\n",
              "            <td>325252</td>\n",
              "            <td>stud113</td>\n",
              "            <td>Testimony Omolo</td>\n",
              "            <td>0766456781</td>\n",
              "            <td>21</td>\n",
              "            <td>Male</td>\n",
              "        </tr>\n",
              "        <tr>\n",
              "            <td>321746</td>\n",
              "            <td>stud114</td>\n",
              "            <td>Career Mpya</td>\n",
              "            <td>0741367812</td>\n",
              "            <td>20</td>\n",
              "            <td>Male</td>\n",
              "        </tr>\n",
              "        <tr>\n",
              "            <td>390234</td>\n",
              "            <td>stud115</td>\n",
              "            <td>Deamon Anduro</td>\n",
              "            <td>0744421123</td>\n",
              "            <td>22</td>\n",
              "            <td>Female</td>\n",
              "        </tr>\n",
              "    </tbody>\n",
              "</table>"
            ]
          },
          "metadata": {},
          "execution_count": 8
        }
      ]
    },
    {
      "cell_type": "markdown",
      "source": [
        "**school_details table**"
      ],
      "metadata": {
        "id": "aUqAjr2q69II"
      }
    },
    {
      "cell_type": "code",
      "source": [
        "%%sql CREATE TABLE school_details (\n",
        "  stud_ID VARCHAR(15),\n",
        "  current_home_county VARCHAR(20),\n",
        "  secondary_school_county VARCHAR(20),\n",
        "  residence VARCHAR(15),\n",
        "  stud_email VARCHAR(50),\n",
        "  PRIMARY KEY (stud_ID)\n",
        ");"
      ],
      "metadata": {
        "colab": {
          "base_uri": "https://localhost:8080/"
        },
        "id": "1Q8NNcUI7Fke",
        "outputId": "0303693b-cbb0-42a9-b2fd-a017f4ce361c"
      },
      "execution_count": 11,
      "outputs": [
        {
          "output_type": "stream",
          "name": "stdout",
          "text": [
            " * sqlite:///stud.db\n",
            "Done.\n"
          ]
        },
        {
          "output_type": "execute_result",
          "data": {
            "text/plain": [
              "[]"
            ]
          },
          "metadata": {},
          "execution_count": 11
        }
      ]
    },
    {
      "cell_type": "code",
      "source": [
        "%%sql INSERT INTO school_details(stud_ID)\n",
        "SELECT stud_ID\n",
        "FROM personal_details;"
      ],
      "metadata": {
        "colab": {
          "base_uri": "https://localhost:8080/"
        },
        "id": "GWMUhsrY7k8r",
        "outputId": "e996271e-5ca8-40b2-9774-e7509816c84e"
      },
      "execution_count": 12,
      "outputs": [
        {
          "output_type": "stream",
          "name": "stdout",
          "text": [
            " * sqlite:///stud.db\n",
            "15 rows affected.\n"
          ]
        },
        {
          "output_type": "execute_result",
          "data": {
            "text/plain": [
              "[]"
            ]
          },
          "metadata": {},
          "execution_count": 12
        }
      ]
    },
    {
      "cell_type": "code",
      "source": [
        "%%sql UPDATE school_details\n",
        "SET stud_email = (SELECT REPLACE (stud_name,' ','')||'@zinduaschool.ac'\n",
        "FROM personal_details\n",
        "WHERE school_details.stud_ID = personal_details.stud_ID)"
      ],
      "metadata": {
        "colab": {
          "base_uri": "https://localhost:8080/"
        },
        "id": "MUYPbYjk73My",
        "outputId": "2e93d6d4-5811-433f-d2e3-cd56eb6f42a7"
      },
      "execution_count": 13,
      "outputs": [
        {
          "output_type": "stream",
          "name": "stdout",
          "text": [
            " * sqlite:///stud.db\n",
            "15 rows affected.\n"
          ]
        },
        {
          "output_type": "execute_result",
          "data": {
            "text/plain": [
              "[]"
            ]
          },
          "metadata": {},
          "execution_count": 13
        }
      ]
    },
    {
      "cell_type": "code",
      "source": [
        "%%sql\n",
        "UPDATE school_details SET current_home_county=\"Nakuru\", secondary_school_county=\"Nairobi\", residence=\"In school\" WHERE stud_ID=\"stud101\";\n",
        "UPDATE school_details SET current_home_county=\"Nairobi\", secondary_school_county=\"Nakuru\", residence=\"In school\" WHERE stud_ID=\"stud102\";\n",
        "UPDATE school_details SET current_home_county=\"Samburu\", secondary_school_county=\"Nairobi\", residence=\"Out of school\" WHERE stud_ID=\"stud103\";\n",
        "UPDATE school_details SET current_home_county=\"Kericho\", secondary_school_county=\"Nairobi\", residence=\"In school\" WHERE stud_ID=\"stud104\";\n",
        "UPDATE school_details SET current_home_county=\"Nyamira\", secondary_school_county=\"Nakuru\", residence=\"In school\" WHERE stud_ID=\"stud105\";\n",
        "UPDATE school_details SET current_home_county=\"Kisumu\", secondary_school_county=\"Nairobi\", residence=\"Out of school\" WHERE stud_ID=\"stud106\";\n",
        "UPDATE school_details SET current_home_county=\"Nakuru\", secondary_school_county=\"Nairobi\", residence=\"Out of school\" WHERE stud_ID=\"stud107\";\n",
        "UPDATE school_details SET current_home_county=\"Kisumu\", secondary_school_county=\"Mombasa\", residence=\"Out of school\" WHERE stud_ID=\"stud108\";\n",
        "UPDATE school_details SET current_home_county=\"Kericho\", secondary_school_county=\"Mombasa\", residence=\"In school\" WHERE stud_ID=\"stud109\";\n",
        "UPDATE school_details SET current_home_county=\"Nakuru\", secondary_school_county=\"Mombasa\", residence=\"In school\" WHERE stud_ID=\"stud110\";\n",
        "UPDATE school_details SET current_home_county=\"Kiambu\", secondary_school_county=\"Turkana\", residence=\"In school\" WHERE stud_ID=\"stud111\";\n",
        "UPDATE school_details SET current_home_county=\"Nairobi\", secondary_school_county=\"Nakuru\", residence=\"In school\" WHERE stud_ID=\"stud112\";\n",
        "UPDATE school_details SET current_home_county=\"Samburu\", secondary_school_county=\"Taita Taveta\", residence=\"In school\" WHERE stud_ID=\"stud113\";\n",
        "UPDATE school_details SET current_home_county=\"Kericho\", secondary_school_county=\"Nairobi\", residence=\"Out of school\" WHERE stud_ID=\"stud114\";\n",
        "UPDATE school_details SET current_home_county=\"Kiambu\", secondary_school_county=\"Mombasa\", residence=\"In school\" WHERE stud_ID=\"stud115\";\n"
      ],
      "metadata": {
        "colab": {
          "base_uri": "https://localhost:8080/"
        },
        "id": "M49K-Uxs9d3t",
        "outputId": "9d9a57cd-5280-4833-d0ff-4f79cb912f3d"
      },
      "execution_count": 14,
      "outputs": [
        {
          "output_type": "stream",
          "name": "stdout",
          "text": [
            " * sqlite:///stud.db\n",
            "1 rows affected.\n",
            "1 rows affected.\n",
            "1 rows affected.\n",
            "1 rows affected.\n",
            "1 rows affected.\n",
            "1 rows affected.\n",
            "1 rows affected.\n",
            "1 rows affected.\n",
            "1 rows affected.\n",
            "1 rows affected.\n",
            "1 rows affected.\n",
            "1 rows affected.\n",
            "1 rows affected.\n",
            "1 rows affected.\n",
            "1 rows affected.\n"
          ]
        },
        {
          "output_type": "execute_result",
          "data": {
            "text/plain": [
              "[]"
            ]
          },
          "metadata": {},
          "execution_count": 14
        }
      ]
    },
    {
      "cell_type": "code",
      "source": [
        "%sql SELECT * FROM school_details;"
      ],
      "metadata": {
        "colab": {
          "base_uri": "https://localhost:8080/",
          "height": 389
        },
        "id": "JkuK3cRl9pxe",
        "outputId": "f2c75b11-97b9-458e-c9f6-1348f25980fd"
      },
      "execution_count": 15,
      "outputs": [
        {
          "output_type": "stream",
          "name": "stdout",
          "text": [
            " * sqlite:///stud.db\n",
            "Done.\n"
          ]
        },
        {
          "output_type": "execute_result",
          "data": {
            "text/plain": [
              "[('stud101', 'Nakuru', 'Nairobi', 'In school', 'HermioneGranger@zinduaschool.ac'),\n",
              " ('stud102', 'Nairobi', 'Nakuru', 'In school', 'DracoMalfo@zinduaschool.ac'),\n",
              " ('stud103', 'Samburu', 'Nairobi', 'Out of school', 'JaydenWamashati@zinduaschool.ac'),\n",
              " ('stud104', 'Kericho', 'Nairobi', 'In school', 'RonWeasley@zinduaschool.ac'),\n",
              " ('stud105', 'Nyamira', 'Nakuru', 'In school', 'DoloresUmbridge@zinduaschool.ac'),\n",
              " ('stud106', 'Kisumu', 'Nairobi', 'Out of school', 'HedwigTonks@zinduaschool.ac'),\n",
              " ('stud107', 'Nakuru', 'Nairobi', 'Out of school', 'ChaoChang@zinduaschool.ac'),\n",
              " ('stud108', 'Kisumu', 'Mombasa', 'Out of school', 'CurfewYaeitpm@zinduaschool.ac'),\n",
              " ('stud109', 'Kericho', 'Mombasa', 'In school', 'ChaptrMukenya@zinduaschool.ac'),\n",
              " ('stud110', 'Nakuru', 'Mombasa', 'In school', 'NatalieMpema@zinduaschool.ac'),\n",
              " ('stud111', 'Kiambu', 'Turkana', 'In school', 'CrewNundi@zinduaschool.ac'),\n",
              " ('stud112', 'Nairobi', 'Nakuru', 'In school', 'BandiKagunda@zinduaschool.ac'),\n",
              " ('stud113', 'Samburu', 'Taita Taveta', 'In school', 'TestimonyOmolo@zinduaschool.ac'),\n",
              " ('stud114', 'Kericho', 'Nairobi', 'Out of school', 'CareerMpya@zinduaschool.ac'),\n",
              " ('stud115', 'Kiambu', 'Mombasa', 'In school', 'DeamonAnduro@zinduaschool.ac')]"
            ],
            "text/html": [
              "<table>\n",
              "    <thead>\n",
              "        <tr>\n",
              "            <th>stud_ID</th>\n",
              "            <th>current_home_county</th>\n",
              "            <th>secondary_school_county</th>\n",
              "            <th>residence</th>\n",
              "            <th>stud_email</th>\n",
              "        </tr>\n",
              "    </thead>\n",
              "    <tbody>\n",
              "        <tr>\n",
              "            <td>stud101</td>\n",
              "            <td>Nakuru</td>\n",
              "            <td>Nairobi</td>\n",
              "            <td>In school</td>\n",
              "            <td>HermioneGranger@zinduaschool.ac</td>\n",
              "        </tr>\n",
              "        <tr>\n",
              "            <td>stud102</td>\n",
              "            <td>Nairobi</td>\n",
              "            <td>Nakuru</td>\n",
              "            <td>In school</td>\n",
              "            <td>DracoMalfo@zinduaschool.ac</td>\n",
              "        </tr>\n",
              "        <tr>\n",
              "            <td>stud103</td>\n",
              "            <td>Samburu</td>\n",
              "            <td>Nairobi</td>\n",
              "            <td>Out of school</td>\n",
              "            <td>JaydenWamashati@zinduaschool.ac</td>\n",
              "        </tr>\n",
              "        <tr>\n",
              "            <td>stud104</td>\n",
              "            <td>Kericho</td>\n",
              "            <td>Nairobi</td>\n",
              "            <td>In school</td>\n",
              "            <td>RonWeasley@zinduaschool.ac</td>\n",
              "        </tr>\n",
              "        <tr>\n",
              "            <td>stud105</td>\n",
              "            <td>Nyamira</td>\n",
              "            <td>Nakuru</td>\n",
              "            <td>In school</td>\n",
              "            <td>DoloresUmbridge@zinduaschool.ac</td>\n",
              "        </tr>\n",
              "        <tr>\n",
              "            <td>stud106</td>\n",
              "            <td>Kisumu</td>\n",
              "            <td>Nairobi</td>\n",
              "            <td>Out of school</td>\n",
              "            <td>HedwigTonks@zinduaschool.ac</td>\n",
              "        </tr>\n",
              "        <tr>\n",
              "            <td>stud107</td>\n",
              "            <td>Nakuru</td>\n",
              "            <td>Nairobi</td>\n",
              "            <td>Out of school</td>\n",
              "            <td>ChaoChang@zinduaschool.ac</td>\n",
              "        </tr>\n",
              "        <tr>\n",
              "            <td>stud108</td>\n",
              "            <td>Kisumu</td>\n",
              "            <td>Mombasa</td>\n",
              "            <td>Out of school</td>\n",
              "            <td>CurfewYaeitpm@zinduaschool.ac</td>\n",
              "        </tr>\n",
              "        <tr>\n",
              "            <td>stud109</td>\n",
              "            <td>Kericho</td>\n",
              "            <td>Mombasa</td>\n",
              "            <td>In school</td>\n",
              "            <td>ChaptrMukenya@zinduaschool.ac</td>\n",
              "        </tr>\n",
              "        <tr>\n",
              "            <td>stud110</td>\n",
              "            <td>Nakuru</td>\n",
              "            <td>Mombasa</td>\n",
              "            <td>In school</td>\n",
              "            <td>NatalieMpema@zinduaschool.ac</td>\n",
              "        </tr>\n",
              "        <tr>\n",
              "            <td>stud111</td>\n",
              "            <td>Kiambu</td>\n",
              "            <td>Turkana</td>\n",
              "            <td>In school</td>\n",
              "            <td>CrewNundi@zinduaschool.ac</td>\n",
              "        </tr>\n",
              "        <tr>\n",
              "            <td>stud112</td>\n",
              "            <td>Nairobi</td>\n",
              "            <td>Nakuru</td>\n",
              "            <td>In school</td>\n",
              "            <td>BandiKagunda@zinduaschool.ac</td>\n",
              "        </tr>\n",
              "        <tr>\n",
              "            <td>stud113</td>\n",
              "            <td>Samburu</td>\n",
              "            <td>Taita Taveta</td>\n",
              "            <td>In school</td>\n",
              "            <td>TestimonyOmolo@zinduaschool.ac</td>\n",
              "        </tr>\n",
              "        <tr>\n",
              "            <td>stud114</td>\n",
              "            <td>Kericho</td>\n",
              "            <td>Nairobi</td>\n",
              "            <td>Out of school</td>\n",
              "            <td>CareerMpya@zinduaschool.ac</td>\n",
              "        </tr>\n",
              "        <tr>\n",
              "            <td>stud115</td>\n",
              "            <td>Kiambu</td>\n",
              "            <td>Mombasa</td>\n",
              "            <td>In school</td>\n",
              "            <td>DeamonAnduro@zinduaschool.ac</td>\n",
              "        </tr>\n",
              "    </tbody>\n",
              "</table>"
            ]
          },
          "metadata": {},
          "execution_count": 15
        }
      ]
    },
    {
      "cell_type": "markdown",
      "source": [
        "**contact_details**"
      ],
      "metadata": {
        "id": "QILq9xLOARSs"
      }
    },
    {
      "cell_type": "code",
      "source": [
        "%%sql CREATE TABLE contact_details (\n",
        "    stud_email VARCHAR(50),\n",
        "    phone_number VARCHAR(15),\n",
        "    next_of_kin_name VARCHAR(50),\n",
        "    next_of_kin_relation VARCHAR(10),\n",
        "    next_of_kin_contacts VARCHAR(13),\n",
        "    PRIMARY KEY(stud_email)\n",
        ");"
      ],
      "metadata": {
        "colab": {
          "base_uri": "https://localhost:8080/"
        },
        "id": "j2a7Hjqu_zNI",
        "outputId": "8b8236a8-f609-4905-a9ce-f382b92e6390"
      },
      "execution_count": 16,
      "outputs": [
        {
          "output_type": "stream",
          "name": "stdout",
          "text": [
            " * sqlite:///stud.db\n",
            "Done.\n"
          ]
        },
        {
          "output_type": "execute_result",
          "data": {
            "text/plain": [
              "[]"
            ]
          },
          "metadata": {},
          "execution_count": 16
        }
      ]
    },
    {
      "cell_type": "code",
      "source": [
        "%%sql INSERT INTO contact_details (phone_number, next_of_kin_name, next_of_kin_relation, next_of_kin_contacts)VALUES\n",
        "(\"0712345678\",\"Darius Young\",\"Father\",\"0782382383\"),\n",
        "(\"0723456781\",\"Lucy Nderitu\",\"Mother\",\"0723238983\"),\n",
        "(\"0734567812\",\"Jerotich Koech\",\"Mother\",\"0779343126\"),\n",
        "(\"0745678123\",\"Mwaura Mwangi\",\"Father\",\"0798246347\"),\n",
        "(\"0756781234\",\"Ian Patrick\",\"Father\",\"0711234453\"),\n",
        "(\"0767812345\",\"Lebron James\",\"Father\",\"0765439233\"),\n",
        "(\"0778123456\",\"Magna Carter\",\"Father\",\"0702526243\"),\n",
        "(\"0781234567\",\"Cindy Wayne\",\"Mother\",\"0747282839\"),\n",
        "(\"0722345678\",\"Farah Maalim\",\"Mother\",\"0753927482\"),\n",
        "(\"0733456781\",\"Faiba Mbugua\",\"Father\",\"0713245748\"),\n",
        "(\"0744567812\",\"John Doe\",\"Father\",\"0725737383\"),\n",
        "(\"0755678123\",\"Klaus Michealson\",\"Father\",\"0789346276\"),\n",
        "(\"0766456781\",\"Suluhu Amdany\",\"Mother\",\"0785739259\"),\n",
        "(\"0741367812\",\"Daisy Auma\",\"Mother\",\"0791344537\"),\n",
        "(\"0755421123\",\"Getrude Karen\",\"Mother\",\"0765748244\");"
      ],
      "metadata": {
        "colab": {
          "base_uri": "https://localhost:8080/"
        },
        "id": "N1PVD-I7AaQv",
        "outputId": "1a11290b-2a09-4a33-fd04-0e32c04f9705"
      },
      "execution_count": 17,
      "outputs": [
        {
          "output_type": "stream",
          "name": "stdout",
          "text": [
            " * sqlite:///stud.db\n",
            "15 rows affected.\n"
          ]
        },
        {
          "output_type": "execute_result",
          "data": {
            "text/plain": [
              "[]"
            ]
          },
          "metadata": {},
          "execution_count": 17
        }
      ]
    },
    {
      "cell_type": "code",
      "source": [
        "%%sql UPDATE contact_details\n",
        "SET stud_email = (SELECT school_details.stud_email\n",
        "FROM school_details, personal_details\n",
        "WHERE school_details.stud_ID = personal_details.stud_ID\n",
        "AND personal_details.phone_number = contact_details.phone_number);"
      ],
      "metadata": {
        "colab": {
          "base_uri": "https://localhost:8080/"
        },
        "id": "mnMAEmYTBF_q",
        "outputId": "a4dcd067-1068-43c0-a4f5-169880e5ecfe"
      },
      "execution_count": 19,
      "outputs": [
        {
          "output_type": "stream",
          "name": "stdout",
          "text": [
            " * sqlite:///stud.db\n",
            "15 rows affected.\n"
          ]
        },
        {
          "output_type": "execute_result",
          "data": {
            "text/plain": [
              "[]"
            ]
          },
          "metadata": {},
          "execution_count": 19
        }
      ]
    },
    {
      "cell_type": "code",
      "source": [
        "%sql SELECT * FROM contact_details;"
      ],
      "metadata": {
        "colab": {
          "base_uri": "https://localhost:8080/",
          "height": 389
        },
        "id": "ZdOZBMZ-B7ov",
        "outputId": "c37f3e09-54f6-49e0-819c-3e335df98b6d"
      },
      "execution_count": 20,
      "outputs": [
        {
          "output_type": "stream",
          "name": "stdout",
          "text": [
            " * sqlite:///stud.db\n",
            "Done.\n"
          ]
        },
        {
          "output_type": "execute_result",
          "data": {
            "text/plain": [
              "[('HermioneGranger@zinduaschool.ac', '0712345678', 'Darius Young', 'Father', '0782382383'),\n",
              " ('DracoMalfo@zinduaschool.ac', '0723456781', 'Lucy Nderitu', 'Mother', '0723238983'),\n",
              " ('JaydenWamashati@zinduaschool.ac', '0734567812', 'Jerotich Koech', 'Mother', '0779343126'),\n",
              " ('RonWeasley@zinduaschool.ac', '0745678123', 'Mwaura Mwangi', 'Father', '0798246347'),\n",
              " ('DoloresUmbridge@zinduaschool.ac', '0756781234', 'Ian Patrick', 'Father', '0711234453'),\n",
              " ('HedwigTonks@zinduaschool.ac', '0767812345', 'Lebron James', 'Father', '0765439233'),\n",
              " ('ChaoChang@zinduaschool.ac', '0778123456', 'Magna Carter', 'Father', '0702526243'),\n",
              " ('CurfewYaeitpm@zinduaschool.ac', '0781234567', 'Cindy Wayne', 'Mother', '0747282839'),\n",
              " ('ChaptrMukenya@zinduaschool.ac', '0722345678', 'Farah Maalim', 'Mother', '0753927482'),\n",
              " ('NatalieMpema@zinduaschool.ac', '0733456781', 'Faiba Mbugua', 'Father', '0713245748'),\n",
              " ('CrewNundi@zinduaschool.ac', '0744567812', 'John Doe', 'Father', '0725737383'),\n",
              " ('BandiKagunda@zinduaschool.ac', '0755678123', 'Klaus Michealson', 'Father', '0789346276'),\n",
              " ('TestimonyOmolo@zinduaschool.ac', '0766456781', 'Suluhu Amdany', 'Mother', '0785739259'),\n",
              " ('CareerMpya@zinduaschool.ac', '0741367812', 'Daisy Auma', 'Mother', '0791344537'),\n",
              " (None, '0755421123', 'Getrude Karen', 'Mother', '0765748244')]"
            ],
            "text/html": [
              "<table>\n",
              "    <thead>\n",
              "        <tr>\n",
              "            <th>stud_email</th>\n",
              "            <th>phone_number</th>\n",
              "            <th>next_of_kin_name</th>\n",
              "            <th>next_of_kin_relation</th>\n",
              "            <th>next_of_kin_contacts</th>\n",
              "        </tr>\n",
              "    </thead>\n",
              "    <tbody>\n",
              "        <tr>\n",
              "            <td>HermioneGranger@zinduaschool.ac</td>\n",
              "            <td>0712345678</td>\n",
              "            <td>Darius Young</td>\n",
              "            <td>Father</td>\n",
              "            <td>0782382383</td>\n",
              "        </tr>\n",
              "        <tr>\n",
              "            <td>DracoMalfo@zinduaschool.ac</td>\n",
              "            <td>0723456781</td>\n",
              "            <td>Lucy Nderitu</td>\n",
              "            <td>Mother</td>\n",
              "            <td>0723238983</td>\n",
              "        </tr>\n",
              "        <tr>\n",
              "            <td>JaydenWamashati@zinduaschool.ac</td>\n",
              "            <td>0734567812</td>\n",
              "            <td>Jerotich Koech</td>\n",
              "            <td>Mother</td>\n",
              "            <td>0779343126</td>\n",
              "        </tr>\n",
              "        <tr>\n",
              "            <td>RonWeasley@zinduaschool.ac</td>\n",
              "            <td>0745678123</td>\n",
              "            <td>Mwaura Mwangi</td>\n",
              "            <td>Father</td>\n",
              "            <td>0798246347</td>\n",
              "        </tr>\n",
              "        <tr>\n",
              "            <td>DoloresUmbridge@zinduaschool.ac</td>\n",
              "            <td>0756781234</td>\n",
              "            <td>Ian Patrick</td>\n",
              "            <td>Father</td>\n",
              "            <td>0711234453</td>\n",
              "        </tr>\n",
              "        <tr>\n",
              "            <td>HedwigTonks@zinduaschool.ac</td>\n",
              "            <td>0767812345</td>\n",
              "            <td>Lebron James</td>\n",
              "            <td>Father</td>\n",
              "            <td>0765439233</td>\n",
              "        </tr>\n",
              "        <tr>\n",
              "            <td>ChaoChang@zinduaschool.ac</td>\n",
              "            <td>0778123456</td>\n",
              "            <td>Magna Carter</td>\n",
              "            <td>Father</td>\n",
              "            <td>0702526243</td>\n",
              "        </tr>\n",
              "        <tr>\n",
              "            <td>CurfewYaeitpm@zinduaschool.ac</td>\n",
              "            <td>0781234567</td>\n",
              "            <td>Cindy Wayne</td>\n",
              "            <td>Mother</td>\n",
              "            <td>0747282839</td>\n",
              "        </tr>\n",
              "        <tr>\n",
              "            <td>ChaptrMukenya@zinduaschool.ac</td>\n",
              "            <td>0722345678</td>\n",
              "            <td>Farah Maalim</td>\n",
              "            <td>Mother</td>\n",
              "            <td>0753927482</td>\n",
              "        </tr>\n",
              "        <tr>\n",
              "            <td>NatalieMpema@zinduaschool.ac</td>\n",
              "            <td>0733456781</td>\n",
              "            <td>Faiba Mbugua</td>\n",
              "            <td>Father</td>\n",
              "            <td>0713245748</td>\n",
              "        </tr>\n",
              "        <tr>\n",
              "            <td>CrewNundi@zinduaschool.ac</td>\n",
              "            <td>0744567812</td>\n",
              "            <td>John Doe</td>\n",
              "            <td>Father</td>\n",
              "            <td>0725737383</td>\n",
              "        </tr>\n",
              "        <tr>\n",
              "            <td>BandiKagunda@zinduaschool.ac</td>\n",
              "            <td>0755678123</td>\n",
              "            <td>Klaus Michealson</td>\n",
              "            <td>Father</td>\n",
              "            <td>0789346276</td>\n",
              "        </tr>\n",
              "        <tr>\n",
              "            <td>TestimonyOmolo@zinduaschool.ac</td>\n",
              "            <td>0766456781</td>\n",
              "            <td>Suluhu Amdany</td>\n",
              "            <td>Mother</td>\n",
              "            <td>0785739259</td>\n",
              "        </tr>\n",
              "        <tr>\n",
              "            <td>CareerMpya@zinduaschool.ac</td>\n",
              "            <td>0741367812</td>\n",
              "            <td>Daisy Auma</td>\n",
              "            <td>Mother</td>\n",
              "            <td>0791344537</td>\n",
              "        </tr>\n",
              "        <tr>\n",
              "            <td>None</td>\n",
              "            <td>0755421123</td>\n",
              "            <td>Getrude Karen</td>\n",
              "            <td>Mother</td>\n",
              "            <td>0765748244</td>\n",
              "        </tr>\n",
              "    </tbody>\n",
              "</table>"
            ]
          },
          "metadata": {},
          "execution_count": 20
        }
      ]
    },
    {
      "cell_type": "markdown",
      "source": [
        "**financial_details table**"
      ],
      "metadata": {
        "id": "0aUvYLhgCkRC"
      }
    },
    {
      "cell_type": "code",
      "source": [
        "%%sql CREATE TABLE financial_details (\n",
        "    stud_ID VARCHAR(15),\n",
        "    stud_name VARCHAR(50),\n",
        "    sem_fee INTEGER(6),\n",
        "    fee_paid INTEGER(6),\n",
        "    PRIMARY KEY(stud_ID)\n",
        ");"
      ],
      "metadata": {
        "colab": {
          "base_uri": "https://localhost:8080/"
        },
        "id": "nuh3bvDNCMSj",
        "outputId": "7e493d18-623a-4dbb-9414-35986c7ae6c8"
      },
      "execution_count": 21,
      "outputs": [
        {
          "output_type": "stream",
          "name": "stdout",
          "text": [
            " * sqlite:///stud.db\n",
            "Done.\n"
          ]
        },
        {
          "output_type": "execute_result",
          "data": {
            "text/plain": [
              "[]"
            ]
          },
          "metadata": {},
          "execution_count": 21
        }
      ]
    },
    {
      "cell_type": "code",
      "source": [
        "%%sql INSERT INTO financial_details(stud_ID, stud_name)\n",
        "SELECT stud_ID, stud_name\n",
        "FROM personal_details;"
      ],
      "metadata": {
        "colab": {
          "base_uri": "https://localhost:8080/"
        },
        "id": "HfjUx7FcC0R0",
        "outputId": "a916ef11-18bb-4e02-b68d-989603ef84b2"
      },
      "execution_count": 22,
      "outputs": [
        {
          "output_type": "stream",
          "name": "stdout",
          "text": [
            " * sqlite:///stud.db\n",
            "15 rows affected.\n"
          ]
        },
        {
          "output_type": "execute_result",
          "data": {
            "text/plain": [
              "[]"
            ]
          },
          "metadata": {},
          "execution_count": 22
        }
      ]
    },
    {
      "cell_type": "code",
      "source": [
        "%%sql\n",
        "UPDATE financial_details SET sem_fee = 25000, fee_paid=25000 WHERE stud_ID = \"stud101\";\n",
        "UPDATE financial_details SET sem_fee= 25000, fee_paid=19000 WHERE stud_ID = \"stud102\";\n",
        "UPDATE financial_details SET sem_fee= 21900, fee_paid=20000 WHERE stud_ID = \"stud103\";\n",
        "UPDATE financial_details SET sem_fee= 22000, fee_paid=22000 WHERE stud_ID = \"stud104\";\n",
        "UPDATE financial_details SET sem_fee= 25000, fee_paid=23400 WHERE stud_ID = \"stud105\";\n",
        "UPDATE financial_details SET sem_fee= 25000, fee_paid=27000 WHERE stud_ID = \"stud106\";\n",
        "UPDATE financial_details SET sem_fee= 24230, fee_paid=21200 WHERE stud_ID = \"stud107\";\n",
        "UPDATE financial_details SET sem_fee= 25000, fee_paid=23500 WHERE stud_ID = \"stud108\";\n",
        "UPDATE financial_details SET sem_fee= 25000, fee_paid=24500 WHERE stud_ID = \"stud109\";\n",
        "UPDATE financial_details SET sem_fee= 25000, fee_paid=25000 WHERE stud_ID = \"stud110\";\n",
        "UPDATE financial_details SET sem_fee= 26000, fee_paid=26000 WHERE stud_ID = \"stud111\";\n",
        "UPDATE financial_details SET sem_fee= 25000, fee_paid=20900 WHERE stud_ID = \"stud112\";\n",
        "UPDATE financial_details SET sem_fee= 25000, fee_paid=22300 WHERE stud_ID = \"stud113\";\n",
        "UPDATE financial_details SET sem_fee= 19000, fee_paid=19000 WHERE stud_ID = \"stud114\";\n",
        "UPDATE financial_details SET sem_fee= 20800, fee_paid=20800 WHERE stud_ID = \"stud115\";"
      ],
      "metadata": {
        "colab": {
          "base_uri": "https://localhost:8080/"
        },
        "id": "p17cLJlYDB5X",
        "outputId": "67a8fdad-c3cf-454c-c09d-b7020e3d7bba"
      },
      "execution_count": 23,
      "outputs": [
        {
          "output_type": "stream",
          "name": "stdout",
          "text": [
            " * sqlite:///stud.db\n",
            "1 rows affected.\n",
            "1 rows affected.\n",
            "1 rows affected.\n",
            "1 rows affected.\n",
            "1 rows affected.\n",
            "1 rows affected.\n",
            "1 rows affected.\n",
            "1 rows affected.\n",
            "1 rows affected.\n",
            "1 rows affected.\n",
            "1 rows affected.\n",
            "1 rows affected.\n",
            "1 rows affected.\n",
            "1 rows affected.\n",
            "1 rows affected.\n"
          ]
        },
        {
          "output_type": "execute_result",
          "data": {
            "text/plain": [
              "[]"
            ]
          },
          "metadata": {},
          "execution_count": 23
        }
      ]
    },
    {
      "cell_type": "code",
      "source": [
        "%sql SELECT * FROM financial_details;"
      ],
      "metadata": {
        "colab": {
          "base_uri": "https://localhost:8080/",
          "height": 389
        },
        "id": "u7kNeJIuDZ9m",
        "outputId": "9653021f-efcf-407c-98af-da7b2537ec73"
      },
      "execution_count": 24,
      "outputs": [
        {
          "output_type": "stream",
          "name": "stdout",
          "text": [
            " * sqlite:///stud.db\n",
            "Done.\n"
          ]
        },
        {
          "output_type": "execute_result",
          "data": {
            "text/plain": [
              "[('stud101', 'Hermione Granger', 25000, 25000),\n",
              " ('stud102', 'Draco Malfo', 25000, 19000),\n",
              " ('stud103', 'Jayden Wamashati', 21900, 20000),\n",
              " ('stud104', 'Ron Weasley', 22000, 22000),\n",
              " ('stud105', 'Dolores Umbridge', 25000, 23400),\n",
              " ('stud106', 'Hedwig Tonks', 25000, 27000),\n",
              " ('stud107', 'Chao Chang', 24230, 21200),\n",
              " ('stud108', 'Curfew Yaeitpm', 25000, 23500),\n",
              " ('stud109', 'Chaptr Mukenya', 25000, 24500),\n",
              " ('stud110', 'Natalie Mpema', 25000, 25000),\n",
              " ('stud111', 'Crew Nundi', 26000, 26000),\n",
              " ('stud112', 'Bandi Kagunda', 25000, 20900),\n",
              " ('stud113', 'Testimony Omolo', 25000, 22300),\n",
              " ('stud114', 'Career Mpya', 19000, 19000),\n",
              " ('stud115', 'Deamon Anduro', 20800, 20800)]"
            ],
            "text/html": [
              "<table>\n",
              "    <thead>\n",
              "        <tr>\n",
              "            <th>stud_ID</th>\n",
              "            <th>stud_name</th>\n",
              "            <th>sem_fee</th>\n",
              "            <th>fee_paid</th>\n",
              "        </tr>\n",
              "    </thead>\n",
              "    <tbody>\n",
              "        <tr>\n",
              "            <td>stud101</td>\n",
              "            <td>Hermione Granger</td>\n",
              "            <td>25000</td>\n",
              "            <td>25000</td>\n",
              "        </tr>\n",
              "        <tr>\n",
              "            <td>stud102</td>\n",
              "            <td>Draco Malfo</td>\n",
              "            <td>25000</td>\n",
              "            <td>19000</td>\n",
              "        </tr>\n",
              "        <tr>\n",
              "            <td>stud103</td>\n",
              "            <td>Jayden Wamashati</td>\n",
              "            <td>21900</td>\n",
              "            <td>20000</td>\n",
              "        </tr>\n",
              "        <tr>\n",
              "            <td>stud104</td>\n",
              "            <td>Ron Weasley</td>\n",
              "            <td>22000</td>\n",
              "            <td>22000</td>\n",
              "        </tr>\n",
              "        <tr>\n",
              "            <td>stud105</td>\n",
              "            <td>Dolores Umbridge</td>\n",
              "            <td>25000</td>\n",
              "            <td>23400</td>\n",
              "        </tr>\n",
              "        <tr>\n",
              "            <td>stud106</td>\n",
              "            <td>Hedwig Tonks</td>\n",
              "            <td>25000</td>\n",
              "            <td>27000</td>\n",
              "        </tr>\n",
              "        <tr>\n",
              "            <td>stud107</td>\n",
              "            <td>Chao Chang</td>\n",
              "            <td>24230</td>\n",
              "            <td>21200</td>\n",
              "        </tr>\n",
              "        <tr>\n",
              "            <td>stud108</td>\n",
              "            <td>Curfew Yaeitpm</td>\n",
              "            <td>25000</td>\n",
              "            <td>23500</td>\n",
              "        </tr>\n",
              "        <tr>\n",
              "            <td>stud109</td>\n",
              "            <td>Chaptr Mukenya</td>\n",
              "            <td>25000</td>\n",
              "            <td>24500</td>\n",
              "        </tr>\n",
              "        <tr>\n",
              "            <td>stud110</td>\n",
              "            <td>Natalie Mpema</td>\n",
              "            <td>25000</td>\n",
              "            <td>25000</td>\n",
              "        </tr>\n",
              "        <tr>\n",
              "            <td>stud111</td>\n",
              "            <td>Crew Nundi</td>\n",
              "            <td>26000</td>\n",
              "            <td>26000</td>\n",
              "        </tr>\n",
              "        <tr>\n",
              "            <td>stud112</td>\n",
              "            <td>Bandi Kagunda</td>\n",
              "            <td>25000</td>\n",
              "            <td>20900</td>\n",
              "        </tr>\n",
              "        <tr>\n",
              "            <td>stud113</td>\n",
              "            <td>Testimony Omolo</td>\n",
              "            <td>25000</td>\n",
              "            <td>22300</td>\n",
              "        </tr>\n",
              "        <tr>\n",
              "            <td>stud114</td>\n",
              "            <td>Career Mpya</td>\n",
              "            <td>19000</td>\n",
              "            <td>19000</td>\n",
              "        </tr>\n",
              "        <tr>\n",
              "            <td>stud115</td>\n",
              "            <td>Deamon Anduro</td>\n",
              "            <td>20800</td>\n",
              "            <td>20800</td>\n",
              "        </tr>\n",
              "    </tbody>\n",
              "</table>"
            ]
          },
          "metadata": {},
          "execution_count": 24
        }
      ]
    },
    {
      "cell_type": "markdown",
      "source": [
        "**Create a view for each question, the view name is in the brackets and in italics.\n",
        "NB: You are to use SQL queries for all of the practice questions below**"
      ],
      "metadata": {
        "id": "q_KHthZ4D39p"
      }
    },
    {
      "cell_type": "markdown",
      "source": [
        "**a. Using JOIN get the student names, school id, email, phone number (new_stud_details)**"
      ],
      "metadata": {
        "id": "HkCvPXbSEQwM"
      }
    },
    {
      "cell_type": "code",
      "source": [
        "%%sql CREATE VIEW new_stud_details AS\n",
        "SELECT pd.stud_name, pd.stud_ID, sd.stud_email, pd.phone_number\n",
        "FROM personal_details AS pd\n",
        "JOIN school_details AS sd ON pd.stud_ID = sd.stud_ID;"
      ],
      "metadata": {
        "colab": {
          "base_uri": "https://localhost:8080/"
        },
        "id": "umP027bXEVV1",
        "outputId": "0895b973-2f80-46ca-f6f9-e42561e1c62c"
      },
      "execution_count": 25,
      "outputs": [
        {
          "output_type": "stream",
          "name": "stdout",
          "text": [
            " * sqlite:///stud.db\n",
            "Done.\n"
          ]
        },
        {
          "output_type": "execute_result",
          "data": {
            "text/plain": [
              "[]"
            ]
          },
          "metadata": {},
          "execution_count": 25
        }
      ]
    },
    {
      "cell_type": "code",
      "source": [
        "%sql SELECT * FROM new_stud_details;"
      ],
      "metadata": {
        "colab": {
          "base_uri": "https://localhost:8080/",
          "height": 389
        },
        "id": "tjf9ZjVaGh3v",
        "outputId": "2d28c50f-c433-4ce6-fd46-ef891605bf01"
      },
      "execution_count": 26,
      "outputs": [
        {
          "output_type": "stream",
          "name": "stdout",
          "text": [
            " * sqlite:///stud.db\n",
            "Done.\n"
          ]
        },
        {
          "output_type": "execute_result",
          "data": {
            "text/plain": [
              "[('Hermione Granger', 'stud101', 'HermioneGranger@zinduaschool.ac', '0712345678'),\n",
              " ('Draco Malfo', 'stud102', 'DracoMalfo@zinduaschool.ac', '0723456781'),\n",
              " ('Jayden Wamashati', 'stud103', 'JaydenWamashati@zinduaschool.ac', '0734567812'),\n",
              " ('Ron Weasley', 'stud104', 'RonWeasley@zinduaschool.ac', '0745678123'),\n",
              " ('Dolores Umbridge', 'stud105', 'DoloresUmbridge@zinduaschool.ac', '0756781234'),\n",
              " ('Hedwig Tonks', 'stud106', 'HedwigTonks@zinduaschool.ac', '0767812345'),\n",
              " ('Chao Chang', 'stud107', 'ChaoChang@zinduaschool.ac', '0778123456'),\n",
              " ('Curfew Yaeitpm', 'stud108', 'CurfewYaeitpm@zinduaschool.ac', '0781234567'),\n",
              " ('Chaptr Mukenya', 'stud109', 'ChaptrMukenya@zinduaschool.ac', '0722345678'),\n",
              " ('Natalie Mpema', 'stud110', 'NatalieMpema@zinduaschool.ac', '0733456781'),\n",
              " ('Crew Nundi', 'stud111', 'CrewNundi@zinduaschool.ac', '0744567812'),\n",
              " ('Bandi Kagunda', 'stud112', 'BandiKagunda@zinduaschool.ac', '0755678123'),\n",
              " ('Testimony Omolo', 'stud113', 'TestimonyOmolo@zinduaschool.ac', '0766456781'),\n",
              " ('Career Mpya', 'stud114', 'CareerMpya@zinduaschool.ac', '0741367812'),\n",
              " ('Deamon Anduro', 'stud115', 'DeamonAnduro@zinduaschool.ac', '0744421123')]"
            ],
            "text/html": [
              "<table>\n",
              "    <thead>\n",
              "        <tr>\n",
              "            <th>stud_name</th>\n",
              "            <th>stud_ID</th>\n",
              "            <th>stud_email</th>\n",
              "            <th>phone_number</th>\n",
              "        </tr>\n",
              "    </thead>\n",
              "    <tbody>\n",
              "        <tr>\n",
              "            <td>Hermione Granger</td>\n",
              "            <td>stud101</td>\n",
              "            <td>HermioneGranger@zinduaschool.ac</td>\n",
              "            <td>0712345678</td>\n",
              "        </tr>\n",
              "        <tr>\n",
              "            <td>Draco Malfo</td>\n",
              "            <td>stud102</td>\n",
              "            <td>DracoMalfo@zinduaschool.ac</td>\n",
              "            <td>0723456781</td>\n",
              "        </tr>\n",
              "        <tr>\n",
              "            <td>Jayden Wamashati</td>\n",
              "            <td>stud103</td>\n",
              "            <td>JaydenWamashati@zinduaschool.ac</td>\n",
              "            <td>0734567812</td>\n",
              "        </tr>\n",
              "        <tr>\n",
              "            <td>Ron Weasley</td>\n",
              "            <td>stud104</td>\n",
              "            <td>RonWeasley@zinduaschool.ac</td>\n",
              "            <td>0745678123</td>\n",
              "        </tr>\n",
              "        <tr>\n",
              "            <td>Dolores Umbridge</td>\n",
              "            <td>stud105</td>\n",
              "            <td>DoloresUmbridge@zinduaschool.ac</td>\n",
              "            <td>0756781234</td>\n",
              "        </tr>\n",
              "        <tr>\n",
              "            <td>Hedwig Tonks</td>\n",
              "            <td>stud106</td>\n",
              "            <td>HedwigTonks@zinduaschool.ac</td>\n",
              "            <td>0767812345</td>\n",
              "        </tr>\n",
              "        <tr>\n",
              "            <td>Chao Chang</td>\n",
              "            <td>stud107</td>\n",
              "            <td>ChaoChang@zinduaschool.ac</td>\n",
              "            <td>0778123456</td>\n",
              "        </tr>\n",
              "        <tr>\n",
              "            <td>Curfew Yaeitpm</td>\n",
              "            <td>stud108</td>\n",
              "            <td>CurfewYaeitpm@zinduaschool.ac</td>\n",
              "            <td>0781234567</td>\n",
              "        </tr>\n",
              "        <tr>\n",
              "            <td>Chaptr Mukenya</td>\n",
              "            <td>stud109</td>\n",
              "            <td>ChaptrMukenya@zinduaschool.ac</td>\n",
              "            <td>0722345678</td>\n",
              "        </tr>\n",
              "        <tr>\n",
              "            <td>Natalie Mpema</td>\n",
              "            <td>stud110</td>\n",
              "            <td>NatalieMpema@zinduaschool.ac</td>\n",
              "            <td>0733456781</td>\n",
              "        </tr>\n",
              "        <tr>\n",
              "            <td>Crew Nundi</td>\n",
              "            <td>stud111</td>\n",
              "            <td>CrewNundi@zinduaschool.ac</td>\n",
              "            <td>0744567812</td>\n",
              "        </tr>\n",
              "        <tr>\n",
              "            <td>Bandi Kagunda</td>\n",
              "            <td>stud112</td>\n",
              "            <td>BandiKagunda@zinduaschool.ac</td>\n",
              "            <td>0755678123</td>\n",
              "        </tr>\n",
              "        <tr>\n",
              "            <td>Testimony Omolo</td>\n",
              "            <td>stud113</td>\n",
              "            <td>TestimonyOmolo@zinduaschool.ac</td>\n",
              "            <td>0766456781</td>\n",
              "        </tr>\n",
              "        <tr>\n",
              "            <td>Career Mpya</td>\n",
              "            <td>stud114</td>\n",
              "            <td>CareerMpya@zinduaschool.ac</td>\n",
              "            <td>0741367812</td>\n",
              "        </tr>\n",
              "        <tr>\n",
              "            <td>Deamon Anduro</td>\n",
              "            <td>stud115</td>\n",
              "            <td>DeamonAnduro@zinduaschool.ac</td>\n",
              "            <td>0744421123</td>\n",
              "        </tr>\n",
              "    </tbody>\n",
              "</table>"
            ]
          },
          "metadata": {},
          "execution_count": 26
        }
      ]
    },
    {
      "cell_type": "markdown",
      "source": [
        "**b. Create a table with all the details from contacts to school and financial details (full_stud_details)**"
      ],
      "metadata": {
        "id": "yx8jxocTK8RI"
      }
    },
    {
      "cell_type": "code",
      "source": [
        "%%sql CREATE VIEW full_stud_details AS\n",
        "SELECT *\n",
        "FROM school_details AS sd\n",
        "LEFT JOIN contact_details AS cd ON sd.stud_email = cd.stud_email;"
      ],
      "metadata": {
        "colab": {
          "base_uri": "https://localhost:8080/"
        },
        "id": "dMzSR5u_L6fx",
        "outputId": "890ef23b-2778-4d4d-e255-fe7a2e31e816"
      },
      "execution_count": 40,
      "outputs": [
        {
          "output_type": "stream",
          "name": "stdout",
          "text": [
            " * sqlite:///stud.db\n",
            "Done.\n"
          ]
        },
        {
          "output_type": "execute_result",
          "data": {
            "text/plain": [
              "[]"
            ]
          },
          "metadata": {},
          "execution_count": 40
        }
      ]
    },
    {
      "cell_type": "code",
      "source": [
        "%sql DROP VIEW full_stud_details;"
      ],
      "metadata": {
        "colab": {
          "base_uri": "https://localhost:8080/"
        },
        "id": "we_fmaQHR0rL",
        "outputId": "a92c3ce1-28f3-4898-b3e0-e88681223186"
      },
      "execution_count": 39,
      "outputs": [
        {
          "output_type": "stream",
          "name": "stdout",
          "text": [
            " * sqlite:///stud.db\n",
            "Done.\n"
          ]
        },
        {
          "output_type": "execute_result",
          "data": {
            "text/plain": [
              "[]"
            ]
          },
          "metadata": {},
          "execution_count": 39
        }
      ]
    },
    {
      "cell_type": "code",
      "source": [
        "%sql SELECT * FROM full_stud_details;"
      ],
      "metadata": {
        "colab": {
          "base_uri": "https://localhost:8080/",
          "height": 495
        },
        "id": "OjlGvnsiQIsd",
        "outputId": "2180f446-672f-4f54-e8eb-fc010d84cfb3"
      },
      "execution_count": 41,
      "outputs": [
        {
          "output_type": "stream",
          "name": "stdout",
          "text": [
            " * sqlite:///stud.db\n",
            "Done.\n"
          ]
        },
        {
          "output_type": "execute_result",
          "data": {
            "text/plain": [
              "[('stud101', 'Nakuru', 'Nairobi', 'In school', 'HermioneGranger@zinduaschool.ac', 'HermioneGranger@zinduaschool.ac', '0712345678', 'Darius Young', 'Father', '0782382383'),\n",
              " ('stud102', 'Nairobi', 'Nakuru', 'In school', 'DracoMalfo@zinduaschool.ac', 'DracoMalfo@zinduaschool.ac', '0723456781', 'Lucy Nderitu', 'Mother', '0723238983'),\n",
              " ('stud103', 'Samburu', 'Nairobi', 'Out of school', 'JaydenWamashati@zinduaschool.ac', 'JaydenWamashati@zinduaschool.ac', '0734567812', 'Jerotich Koech', 'Mother', '0779343126'),\n",
              " ('stud104', 'Kericho', 'Nairobi', 'In school', 'RonWeasley@zinduaschool.ac', 'RonWeasley@zinduaschool.ac', '0745678123', 'Mwaura Mwangi', 'Father', '0798246347'),\n",
              " ('stud105', 'Nyamira', 'Nakuru', 'In school', 'DoloresUmbridge@zinduaschool.ac', 'DoloresUmbridge@zinduaschool.ac', '0756781234', 'Ian Patrick', 'Father', '0711234453'),\n",
              " ('stud106', 'Kisumu', 'Nairobi', 'Out of school', 'HedwigTonks@zinduaschool.ac', 'HedwigTonks@zinduaschool.ac', '0767812345', 'Lebron James', 'Father', '0765439233'),\n",
              " ('stud107', 'Nakuru', 'Nairobi', 'Out of school', 'ChaoChang@zinduaschool.ac', 'ChaoChang@zinduaschool.ac', '0778123456', 'Magna Carter', 'Father', '0702526243'),\n",
              " ('stud108', 'Kisumu', 'Mombasa', 'Out of school', 'CurfewYaeitpm@zinduaschool.ac', 'CurfewYaeitpm@zinduaschool.ac', '0781234567', 'Cindy Wayne', 'Mother', '0747282839'),\n",
              " ('stud109', 'Kericho', 'Mombasa', 'In school', 'ChaptrMukenya@zinduaschool.ac', 'ChaptrMukenya@zinduaschool.ac', '0722345678', 'Farah Maalim', 'Mother', '0753927482'),\n",
              " ('stud110', 'Nakuru', 'Mombasa', 'In school', 'NatalieMpema@zinduaschool.ac', 'NatalieMpema@zinduaschool.ac', '0733456781', 'Faiba Mbugua', 'Father', '0713245748'),\n",
              " ('stud111', 'Kiambu', 'Turkana', 'In school', 'CrewNundi@zinduaschool.ac', 'CrewNundi@zinduaschool.ac', '0744567812', 'John Doe', 'Father', '0725737383'),\n",
              " ('stud112', 'Nairobi', 'Nakuru', 'In school', 'BandiKagunda@zinduaschool.ac', 'BandiKagunda@zinduaschool.ac', '0755678123', 'Klaus Michealson', 'Father', '0789346276'),\n",
              " ('stud113', 'Samburu', 'Taita Taveta', 'In school', 'TestimonyOmolo@zinduaschool.ac', 'TestimonyOmolo@zinduaschool.ac', '0766456781', 'Suluhu Amdany', 'Mother', '0785739259'),\n",
              " ('stud114', 'Kericho', 'Nairobi', 'Out of school', 'CareerMpya@zinduaschool.ac', 'CareerMpya@zinduaschool.ac', '0741367812', 'Daisy Auma', 'Mother', '0791344537'),\n",
              " ('stud115', 'Kiambu', 'Mombasa', 'In school', 'DeamonAnduro@zinduaschool.ac', None, None, None, None, None)]"
            ],
            "text/html": [
              "<table>\n",
              "    <thead>\n",
              "        <tr>\n",
              "            <th>stud_ID</th>\n",
              "            <th>current_home_county</th>\n",
              "            <th>secondary_school_county</th>\n",
              "            <th>residence</th>\n",
              "            <th>stud_email</th>\n",
              "            <th>stud_email:1</th>\n",
              "            <th>phone_number</th>\n",
              "            <th>next_of_kin_name</th>\n",
              "            <th>next_of_kin_relation</th>\n",
              "            <th>next_of_kin_contacts</th>\n",
              "        </tr>\n",
              "    </thead>\n",
              "    <tbody>\n",
              "        <tr>\n",
              "            <td>stud101</td>\n",
              "            <td>Nakuru</td>\n",
              "            <td>Nairobi</td>\n",
              "            <td>In school</td>\n",
              "            <td>HermioneGranger@zinduaschool.ac</td>\n",
              "            <td>HermioneGranger@zinduaschool.ac</td>\n",
              "            <td>0712345678</td>\n",
              "            <td>Darius Young</td>\n",
              "            <td>Father</td>\n",
              "            <td>0782382383</td>\n",
              "        </tr>\n",
              "        <tr>\n",
              "            <td>stud102</td>\n",
              "            <td>Nairobi</td>\n",
              "            <td>Nakuru</td>\n",
              "            <td>In school</td>\n",
              "            <td>DracoMalfo@zinduaschool.ac</td>\n",
              "            <td>DracoMalfo@zinduaschool.ac</td>\n",
              "            <td>0723456781</td>\n",
              "            <td>Lucy Nderitu</td>\n",
              "            <td>Mother</td>\n",
              "            <td>0723238983</td>\n",
              "        </tr>\n",
              "        <tr>\n",
              "            <td>stud103</td>\n",
              "            <td>Samburu</td>\n",
              "            <td>Nairobi</td>\n",
              "            <td>Out of school</td>\n",
              "            <td>JaydenWamashati@zinduaschool.ac</td>\n",
              "            <td>JaydenWamashati@zinduaschool.ac</td>\n",
              "            <td>0734567812</td>\n",
              "            <td>Jerotich Koech</td>\n",
              "            <td>Mother</td>\n",
              "            <td>0779343126</td>\n",
              "        </tr>\n",
              "        <tr>\n",
              "            <td>stud104</td>\n",
              "            <td>Kericho</td>\n",
              "            <td>Nairobi</td>\n",
              "            <td>In school</td>\n",
              "            <td>RonWeasley@zinduaschool.ac</td>\n",
              "            <td>RonWeasley@zinduaschool.ac</td>\n",
              "            <td>0745678123</td>\n",
              "            <td>Mwaura Mwangi</td>\n",
              "            <td>Father</td>\n",
              "            <td>0798246347</td>\n",
              "        </tr>\n",
              "        <tr>\n",
              "            <td>stud105</td>\n",
              "            <td>Nyamira</td>\n",
              "            <td>Nakuru</td>\n",
              "            <td>In school</td>\n",
              "            <td>DoloresUmbridge@zinduaschool.ac</td>\n",
              "            <td>DoloresUmbridge@zinduaschool.ac</td>\n",
              "            <td>0756781234</td>\n",
              "            <td>Ian Patrick</td>\n",
              "            <td>Father</td>\n",
              "            <td>0711234453</td>\n",
              "        </tr>\n",
              "        <tr>\n",
              "            <td>stud106</td>\n",
              "            <td>Kisumu</td>\n",
              "            <td>Nairobi</td>\n",
              "            <td>Out of school</td>\n",
              "            <td>HedwigTonks@zinduaschool.ac</td>\n",
              "            <td>HedwigTonks@zinduaschool.ac</td>\n",
              "            <td>0767812345</td>\n",
              "            <td>Lebron James</td>\n",
              "            <td>Father</td>\n",
              "            <td>0765439233</td>\n",
              "        </tr>\n",
              "        <tr>\n",
              "            <td>stud107</td>\n",
              "            <td>Nakuru</td>\n",
              "            <td>Nairobi</td>\n",
              "            <td>Out of school</td>\n",
              "            <td>ChaoChang@zinduaschool.ac</td>\n",
              "            <td>ChaoChang@zinduaschool.ac</td>\n",
              "            <td>0778123456</td>\n",
              "            <td>Magna Carter</td>\n",
              "            <td>Father</td>\n",
              "            <td>0702526243</td>\n",
              "        </tr>\n",
              "        <tr>\n",
              "            <td>stud108</td>\n",
              "            <td>Kisumu</td>\n",
              "            <td>Mombasa</td>\n",
              "            <td>Out of school</td>\n",
              "            <td>CurfewYaeitpm@zinduaschool.ac</td>\n",
              "            <td>CurfewYaeitpm@zinduaschool.ac</td>\n",
              "            <td>0781234567</td>\n",
              "            <td>Cindy Wayne</td>\n",
              "            <td>Mother</td>\n",
              "            <td>0747282839</td>\n",
              "        </tr>\n",
              "        <tr>\n",
              "            <td>stud109</td>\n",
              "            <td>Kericho</td>\n",
              "            <td>Mombasa</td>\n",
              "            <td>In school</td>\n",
              "            <td>ChaptrMukenya@zinduaschool.ac</td>\n",
              "            <td>ChaptrMukenya@zinduaschool.ac</td>\n",
              "            <td>0722345678</td>\n",
              "            <td>Farah Maalim</td>\n",
              "            <td>Mother</td>\n",
              "            <td>0753927482</td>\n",
              "        </tr>\n",
              "        <tr>\n",
              "            <td>stud110</td>\n",
              "            <td>Nakuru</td>\n",
              "            <td>Mombasa</td>\n",
              "            <td>In school</td>\n",
              "            <td>NatalieMpema@zinduaschool.ac</td>\n",
              "            <td>NatalieMpema@zinduaschool.ac</td>\n",
              "            <td>0733456781</td>\n",
              "            <td>Faiba Mbugua</td>\n",
              "            <td>Father</td>\n",
              "            <td>0713245748</td>\n",
              "        </tr>\n",
              "        <tr>\n",
              "            <td>stud111</td>\n",
              "            <td>Kiambu</td>\n",
              "            <td>Turkana</td>\n",
              "            <td>In school</td>\n",
              "            <td>CrewNundi@zinduaschool.ac</td>\n",
              "            <td>CrewNundi@zinduaschool.ac</td>\n",
              "            <td>0744567812</td>\n",
              "            <td>John Doe</td>\n",
              "            <td>Father</td>\n",
              "            <td>0725737383</td>\n",
              "        </tr>\n",
              "        <tr>\n",
              "            <td>stud112</td>\n",
              "            <td>Nairobi</td>\n",
              "            <td>Nakuru</td>\n",
              "            <td>In school</td>\n",
              "            <td>BandiKagunda@zinduaschool.ac</td>\n",
              "            <td>BandiKagunda@zinduaschool.ac</td>\n",
              "            <td>0755678123</td>\n",
              "            <td>Klaus Michealson</td>\n",
              "            <td>Father</td>\n",
              "            <td>0789346276</td>\n",
              "        </tr>\n",
              "        <tr>\n",
              "            <td>stud113</td>\n",
              "            <td>Samburu</td>\n",
              "            <td>Taita Taveta</td>\n",
              "            <td>In school</td>\n",
              "            <td>TestimonyOmolo@zinduaschool.ac</td>\n",
              "            <td>TestimonyOmolo@zinduaschool.ac</td>\n",
              "            <td>0766456781</td>\n",
              "            <td>Suluhu Amdany</td>\n",
              "            <td>Mother</td>\n",
              "            <td>0785739259</td>\n",
              "        </tr>\n",
              "        <tr>\n",
              "            <td>stud114</td>\n",
              "            <td>Kericho</td>\n",
              "            <td>Nairobi</td>\n",
              "            <td>Out of school</td>\n",
              "            <td>CareerMpya@zinduaschool.ac</td>\n",
              "            <td>CareerMpya@zinduaschool.ac</td>\n",
              "            <td>0741367812</td>\n",
              "            <td>Daisy Auma</td>\n",
              "            <td>Mother</td>\n",
              "            <td>0791344537</td>\n",
              "        </tr>\n",
              "        <tr>\n",
              "            <td>stud115</td>\n",
              "            <td>Kiambu</td>\n",
              "            <td>Mombasa</td>\n",
              "            <td>In school</td>\n",
              "            <td>DeamonAnduro@zinduaschool.ac</td>\n",
              "            <td>None</td>\n",
              "            <td>None</td>\n",
              "            <td>None</td>\n",
              "            <td>None</td>\n",
              "            <td>None</td>\n",
              "        </tr>\n",
              "    </tbody>\n",
              "</table>"
            ]
          },
          "metadata": {},
          "execution_count": 41
        }
      ]
    },
    {
      "cell_type": "markdown",
      "source": [
        "**d. On the financial_details table add a column, fee_cleared, that has True if student has cleared current fee and False if not (financial_details_view)**"
      ],
      "metadata": {
        "id": "l8zW1_XNdInv"
      }
    },
    {
      "cell_type": "markdown",
      "source": [
        "**e. Get the national ID and name of all students who have cleared their fees (fee_cleared)**"
      ],
      "metadata": {
        "id": "ezJyAVuqdSqX"
      }
    },
    {
      "cell_type": "code",
      "source": [
        "%%sql CREATE VIEW fee_cleared AS\n",
        "SELECT pd.national_ID, fd.stud_name\n",
        "FROM personal_details AS pd\n",
        "JOIN financial_details AS fd ON pd.stud_name = fd.stud_name\n",
        "WHERE fd.fee_paid = fd.sem_fee OR fee_paid > sem_fee;"
      ],
      "metadata": {
        "colab": {
          "base_uri": "https://localhost:8080/"
        },
        "id": "tfwYC0Y8daFn",
        "outputId": "93f3f6c4-e631-487c-f49d-fff405035320"
      },
      "execution_count": 36,
      "outputs": [
        {
          "output_type": "stream",
          "name": "stdout",
          "text": [
            " * sqlite:///stud.db\n",
            "Done.\n"
          ]
        },
        {
          "output_type": "execute_result",
          "data": {
            "text/plain": [
              "[]"
            ]
          },
          "metadata": {},
          "execution_count": 36
        }
      ]
    },
    {
      "cell_type": "code",
      "source": [
        "%sql SELECT * FROM fee_cleared;"
      ],
      "metadata": {
        "colab": {
          "base_uri": "https://localhost:8080/",
          "height": 221
        },
        "id": "YPBpMimZfIC5",
        "outputId": "d5ea939b-9305-484b-8ffc-60d1afcff23f"
      },
      "execution_count": 37,
      "outputs": [
        {
          "output_type": "stream",
          "name": "stdout",
          "text": [
            " * sqlite:///stud.db\n",
            "Done.\n"
          ]
        },
        {
          "output_type": "execute_result",
          "data": {
            "text/plain": [
              "[(344534, 'Hermione Granger'),\n",
              " (377302, 'Ron Weasley'),\n",
              " (307243, 'Hedwig Tonks'),\n",
              " (339152, 'Natalie Mpema'),\n",
              " (339746, 'Crew Nundi'),\n",
              " (321746, 'Career Mpya'),\n",
              " (390234, 'Deamon Anduro')]"
            ],
            "text/html": [
              "<table>\n",
              "    <thead>\n",
              "        <tr>\n",
              "            <th>national_ID</th>\n",
              "            <th>stud_name</th>\n",
              "        </tr>\n",
              "    </thead>\n",
              "    <tbody>\n",
              "        <tr>\n",
              "            <td>344534</td>\n",
              "            <td>Hermione Granger</td>\n",
              "        </tr>\n",
              "        <tr>\n",
              "            <td>377302</td>\n",
              "            <td>Ron Weasley</td>\n",
              "        </tr>\n",
              "        <tr>\n",
              "            <td>307243</td>\n",
              "            <td>Hedwig Tonks</td>\n",
              "        </tr>\n",
              "        <tr>\n",
              "            <td>339152</td>\n",
              "            <td>Natalie Mpema</td>\n",
              "        </tr>\n",
              "        <tr>\n",
              "            <td>339746</td>\n",
              "            <td>Crew Nundi</td>\n",
              "        </tr>\n",
              "        <tr>\n",
              "            <td>321746</td>\n",
              "            <td>Career Mpya</td>\n",
              "        </tr>\n",
              "        <tr>\n",
              "            <td>390234</td>\n",
              "            <td>Deamon Anduro</td>\n",
              "        </tr>\n",
              "    </tbody>\n",
              "</table>"
            ]
          },
          "metadata": {},
          "execution_count": 37
        }
      ]
    },
    {
      "cell_type": "markdown",
      "source": [
        "**f. Get the total sum of fees paid so far and the total current deficit (total_fee_balance)**"
      ],
      "metadata": {
        "id": "ATEqjJO_kUCk"
      }
    },
    {
      "cell_type": "code",
      "source": [
        "%%sql CREATE VIEW total_fee_balance AS\n",
        "SELECT SUM(financial_details.fee_paid) AS total_fee_paid\n",
        "FROM financial_details\n",
        "WHERE financial_details.fee_paid = financial_details.sem_fee;"
      ],
      "metadata": {
        "colab": {
          "base_uri": "https://localhost:8080/"
        },
        "id": "2UPBTGFV9vfm",
        "outputId": "1c6612b0-8e8f-42df-ac43-6c016eb103dc"
      },
      "execution_count": null,
      "outputs": [
        {
          "output_type": "stream",
          "name": "stdout",
          "text": [
            " * sqlite:///stud.db\n",
            "Done.\n"
          ]
        },
        {
          "output_type": "execute_result",
          "data": {
            "text/plain": [
              "[]"
            ]
          },
          "metadata": {},
          "execution_count": 35
        }
      ]
    },
    {
      "cell_type": "code",
      "source": [
        "%sql DROP VIEW total_fee_balance;"
      ],
      "metadata": {
        "colab": {
          "base_uri": "https://localhost:8080/"
        },
        "id": "X8dm8JoDBBnS",
        "outputId": "66200034-49f4-4471-9ec1-5035f6f2c963"
      },
      "execution_count": null,
      "outputs": [
        {
          "output_type": "stream",
          "name": "stdout",
          "text": [
            " * sqlite:///stud.db\n",
            "(sqlite3.OperationalError) no such view: total_fee_balance\n",
            "[SQL: DROP VIEW total_fee_balance;]\n",
            "(Background on this error at: https://sqlalche.me/e/20/e3q8)\n"
          ]
        }
      ]
    },
    {
      "cell_type": "code",
      "source": [
        "%sql SELECT * FROM total_fee_balance;"
      ],
      "metadata": {
        "colab": {
          "base_uri": "https://localhost:8080/",
          "height": 95
        },
        "id": "3d59CzK8_rMu",
        "outputId": "cb881757-be06-49e1-8efb-30d31050e726"
      },
      "execution_count": null,
      "outputs": [
        {
          "output_type": "stream",
          "name": "stdout",
          "text": [
            " * sqlite:///stud.db\n",
            "Done.\n"
          ]
        },
        {
          "output_type": "execute_result",
          "data": {
            "text/plain": [
              "[(312600,)]"
            ],
            "text/html": [
              "<table>\n",
              "    <thead>\n",
              "        <tr>\n",
              "            <th>total_fee_paid</th>\n",
              "        </tr>\n",
              "    </thead>\n",
              "    <tbody>\n",
              "        <tr>\n",
              "            <td>312600</td>\n",
              "        </tr>\n",
              "    </tbody>\n",
              "</table>"
            ]
          },
          "metadata": {},
          "execution_count": 36
        }
      ]
    },
    {
      "cell_type": "markdown",
      "source": [
        "**g. Get the count of students who share a current home county i.e., Say Nairobi, get the number of students who’s current_home_county is Nairobi, and so on for all available counties (home_county_count)**"
      ],
      "metadata": {
        "id": "riizbdpU6IJl"
      }
    },
    {
      "cell_type": "code",
      "source": [
        "%%sql CREATE VIEW home_county_count AS\n",
        "SELECT DISTINCT COUNT(DISTINCT current_home_county)\n",
        "FROM school_details\n",
        "WHERE current_home_county LIKE '% %';"
      ],
      "metadata": {
        "colab": {
          "base_uri": "https://localhost:8080/"
        },
        "id": "5qO18RayHabd",
        "outputId": "155443d2-2e3e-4305-9e14-8404ab8ad4a1"
      },
      "execution_count": null,
      "outputs": [
        {
          "output_type": "stream",
          "name": "stdout",
          "text": [
            " * sqlite:///stud.db\n",
            "Done.\n"
          ]
        },
        {
          "output_type": "execute_result",
          "data": {
            "text/plain": [
              "[]"
            ]
          },
          "metadata": {},
          "execution_count": 47
        }
      ]
    },
    {
      "cell_type": "code",
      "source": [
        "%sql DROP VIEW home_county_count;"
      ],
      "metadata": {
        "colab": {
          "base_uri": "https://localhost:8080/"
        },
        "id": "kn3X_c-QKBWp",
        "outputId": "af0c8951-e4bc-4d5e-9b49-798fe5e286ce"
      },
      "execution_count": null,
      "outputs": [
        {
          "output_type": "stream",
          "name": "stdout",
          "text": [
            " * sqlite:///stud.db\n",
            "Done.\n"
          ]
        },
        {
          "output_type": "execute_result",
          "data": {
            "text/plain": [
              "[]"
            ]
          },
          "metadata": {},
          "execution_count": 46
        }
      ]
    },
    {
      "cell_type": "code",
      "source": [
        "%sql SELECT * FROM home_county_count;"
      ],
      "metadata": {
        "colab": {
          "base_uri": "https://localhost:8080/",
          "height": 95
        },
        "id": "pcHR5DzDJyXm",
        "outputId": "8cd1abc6-3d40-402b-88e3-6d8387eef6d8"
      },
      "execution_count": null,
      "outputs": [
        {
          "output_type": "stream",
          "name": "stdout",
          "text": [
            " * sqlite:///stud.db\n",
            "Done.\n"
          ]
        },
        {
          "output_type": "execute_result",
          "data": {
            "text/plain": [
              "[(0,)]"
            ],
            "text/html": [
              "<table>\n",
              "    <thead>\n",
              "        <tr>\n",
              "            <th>COUNT(DISTINCT current_home_county)</th>\n",
              "        </tr>\n",
              "    </thead>\n",
              "    <tbody>\n",
              "        <tr>\n",
              "            <td>0</td>\n",
              "        </tr>\n",
              "    </tbody>\n",
              "</table>"
            ]
          },
          "metadata": {},
          "execution_count": 48
        }
      ]
    },
    {
      "cell_type": "markdown",
      "source": [
        "**h. Get the count of Male and/or Female students from each secondary_school_county (secondary_school_count). The table should contain a column for male student count and female student count for each county.**"
      ],
      "metadata": {
        "id": "4i7ctLMI6MYP"
      }
    },
    {
      "cell_type": "markdown",
      "source": [
        "**i. Get the percentage of students who set their next_of_kin as Mother vs those that set it as Father1. (kin_percentage)**"
      ],
      "metadata": {
        "id": "E7a6OKuE6TCL"
      }
    }
  ]
}